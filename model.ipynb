{
 "cells": [
  {
   "cell_type": "code",
   "execution_count": 1,
   "metadata": {},
   "outputs": [],
   "source": [
    "# Dependencies\n",
    "import os\n",
    "import pandas as pd\n",
    "from sqlalchemy import create_engine\n",
    "import tqdm"
   ]
  },
  {
   "attachments": {},
   "cell_type": "markdown",
   "metadata": {},
   "source": [
    "batter_preprocessing should be good - it should have game-level performances from each batter: trust but verify\n",
    "\n",
    "need to finish pitcher_preprocessing to get this at the same level - one row per starting pitcher + bullpen performance same summation method as batter"
   ]
  },
  {
   "cell_type": "code",
   "execution_count": 2,
   "metadata": {},
   "outputs": [],
   "source": [
    "# Database connection parameters\n",
    "db_user = \"postgres\"\n",
    "db_password = \"1789\"\n",
    "db_name = \"baseball\"\n",
    "db_host = \"localhost\"\n",
    "db_port = \"5433\"\n"
   ]
  },
  {
   "cell_type": "code",
   "execution_count": 3,
   "metadata": {},
   "outputs": [],
   "source": [
    "# Bring in the data from the postgres database\n",
    "engine = create_engine(\n",
    "    f\"postgresql://{db_user}:{db_password}@{db_host}:{db_port}/{db_name}\")\n"
   ]
  },
  {
   "attachments": {},
   "cell_type": "markdown",
   "metadata": {},
   "source": [
    "should pitcher columns be whole game? or row specific?"
   ]
  },
  {
   "cell_type": "code",
   "execution_count": 4,
   "metadata": {},
   "outputs": [],
   "source": [
    "# Grab the pitcher data from the database\n",
    "pitcher_df = pd.read_sql_table('pitchers', engine)\n",
    "\n",
    "batter_df = pd.read_sql_table('batter_statistics', engine)"
   ]
  },
  {
   "cell_type": "code",
   "execution_count": 5,
   "metadata": {},
   "outputs": [],
   "source": [
    "# Redefine the inning column in pitcher_df as a string\n",
    "pitcher_df['inning'] = pitcher_df['inning'].astype(str)\n"
   ]
  },
  {
   "cell_type": "code",
   "execution_count": 6,
   "metadata": {},
   "outputs": [],
   "source": [
    "# Keep only the necessary columns from the batter_df DataFrame\n",
    "batter_df = batter_df[[\n",
    "    'game_id', 'home_team', 'away_team', 'inning', 'batter_player_id', 'outcome']]\n"
   ]
  },
  {
   "cell_type": "code",
   "execution_count": 7,
   "metadata": {},
   "outputs": [],
   "source": [
    "# Merge the pitcher_df DataFrame with the batter_df DataFrame\n",
    "pitcher_df = pitcher_df.merge(\n",
    "    batter_df, on=['game_id', 'inning', 'batter_player_id'])\n"
   ]
  },
  {
   "cell_type": "code",
   "execution_count": 8,
   "metadata": {},
   "outputs": [
    {
     "data": {
      "text/html": [
       "<div>\n",
       "<style scoped>\n",
       "    .dataframe tbody tr th:only-of-type {\n",
       "        vertical-align: middle;\n",
       "    }\n",
       "\n",
       "    .dataframe tbody tr th {\n",
       "        vertical-align: top;\n",
       "    }\n",
       "\n",
       "    .dataframe thead th {\n",
       "        text-align: right;\n",
       "    }\n",
       "</style>\n",
       "<table border=\"1\" class=\"dataframe\">\n",
       "  <thead>\n",
       "    <tr style=\"text-align: right;\">\n",
       "      <th></th>\n",
       "      <th>game_id</th>\n",
       "      <th>pitcher_home_away</th>\n",
       "      <th>pitcher_team</th>\n",
       "      <th>pitcher_player_id</th>\n",
       "      <th>pitcher_player_name</th>\n",
       "      <th>starter</th>\n",
       "      <th>inning</th>\n",
       "      <th>batter_player_id</th>\n",
       "      <th>home_team</th>\n",
       "      <th>away_team</th>\n",
       "      <th>outcome</th>\n",
       "    </tr>\n",
       "  </thead>\n",
       "  <tbody>\n",
       "    <tr>\n",
       "      <th>0</th>\n",
       "      <td>CHN201204050</td>\n",
       "      <td>0</td>\n",
       "      <td>CHN</td>\n",
       "      <td>dempr002</td>\n",
       "      <td>Ryan Dempster</td>\n",
       "      <td>1</td>\n",
       "      <td>1</td>\n",
       "      <td>desmi001</td>\n",
       "      <td>CHN</td>\n",
       "      <td>WAS</td>\n",
       "      <td>single</td>\n",
       "    </tr>\n",
       "    <tr>\n",
       "      <th>1</th>\n",
       "      <td>CHN201204050</td>\n",
       "      <td>0</td>\n",
       "      <td>CHN</td>\n",
       "      <td>dempr002</td>\n",
       "      <td>Ryan Dempster</td>\n",
       "      <td>1</td>\n",
       "      <td>1</td>\n",
       "      <td>espid001</td>\n",
       "      <td>CHN</td>\n",
       "      <td>WAS</td>\n",
       "      <td>walk</td>\n",
       "    </tr>\n",
       "    <tr>\n",
       "      <th>2</th>\n",
       "      <td>CHN201204050</td>\n",
       "      <td>0</td>\n",
       "      <td>CHN</td>\n",
       "      <td>dempr002</td>\n",
       "      <td>Ryan Dempster</td>\n",
       "      <td>1</td>\n",
       "      <td>1</td>\n",
       "      <td>zimmr001</td>\n",
       "      <td>CHN</td>\n",
       "      <td>WAS</td>\n",
       "      <td>out in play</td>\n",
       "    </tr>\n",
       "    <tr>\n",
       "      <th>3</th>\n",
       "      <td>CHN201204050</td>\n",
       "      <td>0</td>\n",
       "      <td>CHN</td>\n",
       "      <td>dempr002</td>\n",
       "      <td>Ryan Dempster</td>\n",
       "      <td>1</td>\n",
       "      <td>1</td>\n",
       "      <td>laroa001</td>\n",
       "      <td>CHN</td>\n",
       "      <td>WAS</td>\n",
       "      <td>strikeout</td>\n",
       "    </tr>\n",
       "    <tr>\n",
       "      <th>4</th>\n",
       "      <td>CHN201204050</td>\n",
       "      <td>0</td>\n",
       "      <td>CHN</td>\n",
       "      <td>dempr002</td>\n",
       "      <td>Ryan Dempster</td>\n",
       "      <td>1</td>\n",
       "      <td>1</td>\n",
       "      <td>wertj001</td>\n",
       "      <td>CHN</td>\n",
       "      <td>WAS</td>\n",
       "      <td>out in play</td>\n",
       "    </tr>\n",
       "  </tbody>\n",
       "</table>\n",
       "</div>"
      ],
      "text/plain": [
       "        game_id  pitcher_home_away pitcher_team pitcher_player_id  \\\n",
       "0  CHN201204050                  0          CHN          dempr002   \n",
       "1  CHN201204050                  0          CHN          dempr002   \n",
       "2  CHN201204050                  0          CHN          dempr002   \n",
       "3  CHN201204050                  0          CHN          dempr002   \n",
       "4  CHN201204050                  0          CHN          dempr002   \n",
       "\n",
       "  pitcher_player_name  starter inning batter_player_id home_team away_team  \\\n",
       "0       Ryan Dempster        1      1         desmi001       CHN       WAS   \n",
       "1       Ryan Dempster        1      1         espid001       CHN       WAS   \n",
       "2       Ryan Dempster        1      1         zimmr001       CHN       WAS   \n",
       "3       Ryan Dempster        1      1         laroa001       CHN       WAS   \n",
       "4       Ryan Dempster        1      1         wertj001       CHN       WAS   \n",
       "\n",
       "       outcome  \n",
       "0       single  \n",
       "1         walk  \n",
       "2  out in play  \n",
       "3    strikeout  \n",
       "4  out in play  "
      ]
     },
     "execution_count": 8,
     "metadata": {},
     "output_type": "execute_result"
    }
   ],
   "source": [
    "pitcher_df.head()"
   ]
  },
  {
   "cell_type": "code",
   "execution_count": 9,
   "metadata": {},
   "outputs": [
    {
     "data": {
      "text/plain": [
       "2035626"
      ]
     },
     "execution_count": 9,
     "metadata": {},
     "output_type": "execute_result"
    }
   ],
   "source": [
    "len(pitcher_df)"
   ]
  },
  {
   "cell_type": "code",
   "execution_count": 10,
   "metadata": {},
   "outputs": [],
   "source": [
    "pitcher_df = pitcher_df.drop(columns=['inning', 'batter_player_id'])"
   ]
  },
  {
   "cell_type": "code",
   "execution_count": null,
   "metadata": {},
   "outputs": [],
   "source": [
    "# Define the outcomes for the pitcher and whether they were a starter or relief pitcher\n",
    "outcomes = ['out_in_play', 'strikeout', 'single', 'walk',\n",
    "            'double', 'home_run', 'stolen_base', 'triple']\n",
    "\n",
    "for outcome in outcomes:\n",
    "    # Create a starting_pitcher column for each outcome\n",
    "    pitcher_df[f'starting_pitcher_{outcome}'] = pitcher_df.apply(\n",
    "        lambda row: 1 if row['outcome'] == outcome and row['starter'] == 1 else 0, axis=1)\n",
    "\n",
    "    # Create a relief_pitcher column for each outcome\n",
    "    pitcher_df[f'relief_pitcher_{outcome}'] = pitcher_df.apply(\n",
    "        lambda row: 1 if row['outcome'] == outcome and row['starter'] == 0 else 0, axis=1)\n"
   ]
  },
  {
   "cell_type": "code",
   "execution_count": null,
   "metadata": {},
   "outputs": [],
   "source": []
  }
 ],
 "metadata": {
  "kernelspec": {
   "display_name": "Python 3",
   "language": "python",
   "name": "python3"
  },
  "language_info": {
   "codemirror_mode": {
    "name": "ipython",
    "version": 3
   },
   "file_extension": ".py",
   "mimetype": "text/x-python",
   "name": "python",
   "nbconvert_exporter": "python",
   "pygments_lexer": "ipython3",
   "version": "3.9.7"
  },
  "orig_nbformat": 4
 },
 "nbformat": 4,
 "nbformat_minor": 2
}
