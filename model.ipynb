{
 "cells": [
  {
   "cell_type": "code",
   "execution_count": 2,
   "metadata": {},
   "outputs": [],
   "source": [
    "# Dependencies\n",
    "import pandas as pd\n",
    "import numpy as np\n",
    "import matplotlib.pyplot as plt\n",
    "from pybaseball import schedule_and_record\n",
    "from pybaseball import cache\n",
    "from pybaseball import batting_stats_range\n",
    "from pybaseball import statcast\n",
    "import tqdm\n",
    "\n",
    "cache.enable()"
   ]
  },
  {
   "cell_type": "code",
   "execution_count": 15,
   "metadata": {},
   "outputs": [
    {
     "name": "stderr",
     "output_type": "stream",
     "text": [
      " 12%|█▏        | 30/246 [02:58<21:27,  5.96s/it]\n"
     ]
    },
    {
     "ename": "KeyboardInterrupt",
     "evalue": "",
     "output_type": "error",
     "traceback": [
      "\u001b[0;31m---------------------------------------------------------------------------\u001b[0m",
      "\u001b[0;31mKeyboardInterrupt\u001b[0m                         Traceback (most recent call last)",
      "Cell \u001b[0;32mIn[15], line 9\u001b[0m\n\u001b[1;32m      6\u001b[0m \u001b[39mfor\u001b[39;00m date \u001b[39min\u001b[39;00m tqdm\u001b[39m.\u001b[39mtqdm(pd\u001b[39m.\u001b[39mdate_range(\u001b[39mf\u001b[39m\u001b[39m\"\u001b[39m\u001b[39m{\u001b[39;00myear\u001b[39m}\u001b[39;00m\u001b[39m-03-15\u001b[39m\u001b[39m\"\u001b[39m, \u001b[39mf\u001b[39m\u001b[39m\"\u001b[39m\u001b[39m{\u001b[39;00myear\u001b[39m}\u001b[39;00m\u001b[39m-11-15\u001b[39m\u001b[39m\"\u001b[39m)\u001b[39m.\u001b[39mstrftime(\u001b[39m\"\u001b[39m\u001b[39m%\u001b[39m\u001b[39mY-\u001b[39m\u001b[39m%\u001b[39m\u001b[39mm-\u001b[39m\u001b[39m%d\u001b[39;00m\u001b[39m\"\u001b[39m)):\n\u001b[1;32m      7\u001b[0m     \u001b[39mtry\u001b[39;00m:\n\u001b[1;32m      8\u001b[0m         \u001b[39m# Retrieve the batting stats for that day\u001b[39;00m\n\u001b[0;32m----> 9\u001b[0m         data \u001b[39m=\u001b[39m batting_stats_range(date, date)\n\u001b[1;32m     10\u001b[0m         \u001b[39m# Append the data to the dataframe\u001b[39;00m\n\u001b[1;32m     11\u001b[0m         df \u001b[39m=\u001b[39m df\u001b[39m.\u001b[39mconcat(data)\n",
      "File \u001b[0;32m~/.local/lib/python3.8/site-packages/pybaseball/league_batting_stats.py:61\u001b[0m, in \u001b[0;36mbatting_stats_range\u001b[0;34m(start_dt, end_dt)\u001b[0m\n\u001b[1;32m     59\u001b[0m     \u001b[39mraise\u001b[39;00m \u001b[39mValueError\u001b[39;00m(\u001b[39m\"\u001b[39m\u001b[39mYear must be 2008 or later\u001b[39m\u001b[39m\"\u001b[39m)\n\u001b[1;32m     60\u001b[0m \u001b[39m# retrieve html from baseball reference\u001b[39;00m\n\u001b[0;32m---> 61\u001b[0m soup \u001b[39m=\u001b[39m get_soup(start_dt_date, end_dt_date)\n\u001b[1;32m     62\u001b[0m table \u001b[39m=\u001b[39m get_table(soup)\n\u001b[1;32m     63\u001b[0m table \u001b[39m=\u001b[39m table\u001b[39m.\u001b[39mdropna(how\u001b[39m=\u001b[39m\u001b[39m'\u001b[39m\u001b[39mall\u001b[39m\u001b[39m'\u001b[39m)  \u001b[39m# drop if all columns are NA\u001b[39;00m\n",
      "File \u001b[0;32m~/.local/lib/python3.8/site-packages/pybaseball/league_batting_stats.py:21\u001b[0m, in \u001b[0;36mget_soup\u001b[0;34m(start_dt, end_dt)\u001b[0m\n\u001b[1;32m     15\u001b[0m \u001b[39mdef\u001b[39;00m \u001b[39mget_soup\u001b[39m(start_dt: date, end_dt: date) \u001b[39m-\u001b[39m\u001b[39m>\u001b[39m BeautifulSoup:\n\u001b[1;32m     16\u001b[0m     \u001b[39m# get most recent standings if date not specified\u001b[39;00m\n\u001b[1;32m     17\u001b[0m     \u001b[39m# if((start_dt is None) or (end_dt is None)):\u001b[39;00m\n\u001b[1;32m     18\u001b[0m     \u001b[39m#    print('Error: a date range needs to be specified')\u001b[39;00m\n\u001b[1;32m     19\u001b[0m     \u001b[39m#    return None\u001b[39;00m\n\u001b[1;32m     20\u001b[0m     url \u001b[39m=\u001b[39m \u001b[39m\"\u001b[39m\u001b[39mhttp://www.baseball-reference.com/leagues/daily.cgi?user_team=&bust_cache=&type=b&lastndays=7&dates=fromandto&fromandto=\u001b[39m\u001b[39m{}\u001b[39;00m\u001b[39m.\u001b[39m\u001b[39m{}\u001b[39;00m\u001b[39m&level=mlb&franch=&stat=&stat_value=0\u001b[39m\u001b[39m\"\u001b[39m\u001b[39m.\u001b[39mformat(start_dt, end_dt)\n\u001b[0;32m---> 21\u001b[0m     s \u001b[39m=\u001b[39m session\u001b[39m.\u001b[39;49mget(url)\u001b[39m.\u001b[39mcontent\n\u001b[1;32m     22\u001b[0m     \u001b[39m# a workaround to avoid beautiful soup applying the wrong encoding\u001b[39;00m\n\u001b[1;32m     23\u001b[0m     s \u001b[39m=\u001b[39m \u001b[39mstr\u001b[39m(s)\u001b[39m.\u001b[39mencode()\n",
      "File \u001b[0;32m~/.local/lib/python3.8/site-packages/pybaseball/datasources/bref.py:30\u001b[0m, in \u001b[0;36mBRefSession.get\u001b[0;34m(self, url, **kwargs)\u001b[0m\n\u001b[1;32m     28\u001b[0m     sleep_length \u001b[39m=\u001b[39m (\u001b[39m60\u001b[39m \u001b[39m/\u001b[39m \u001b[39mself\u001b[39m\u001b[39m.\u001b[39mmax_requests_per_minute) \u001b[39m-\u001b[39m delta\u001b[39m.\u001b[39mtotal_seconds()\n\u001b[1;32m     29\u001b[0m     \u001b[39mif\u001b[39;00m sleep_length \u001b[39m>\u001b[39m \u001b[39m0\u001b[39m:\n\u001b[0;32m---> 30\u001b[0m         sleep(sleep_length)\n\u001b[1;32m     32\u001b[0m \u001b[39mself\u001b[39m\u001b[39m.\u001b[39mlast_request \u001b[39m=\u001b[39m datetime\u001b[39m.\u001b[39mdatetime\u001b[39m.\u001b[39mnow()\n\u001b[1;32m     34\u001b[0m \u001b[39mreturn\u001b[39;00m \u001b[39mself\u001b[39m\u001b[39m.\u001b[39msession\u001b[39m.\u001b[39mget(url, \u001b[39m*\u001b[39m\u001b[39m*\u001b[39mkwargs)\n",
      "\u001b[0;31mKeyboardInterrupt\u001b[0m: "
     ]
    }
   ],
   "source": [
    "# initialize an empty dataframe\n",
    "df = pd.DataFrame()\n",
    "\n",
    "# Loop through each year 2015-2022 as a string and for each year March 15 through November 15; use tqdm to monitor progress\n",
    "for year in range(2015, 2022):\n",
    "    for date in tqdm.tqdm(pd.date_range(f\"{year}-03-15\", f\"{year}-11-15\").strftime(\"%Y-%m-%d\")):\n",
    "        try:\n",
    "            # Retrieve the batting stats for that day\n",
    "            data = batting_stats_range(date, date)\n",
    "            # Append the data to the dataframe\n",
    "            df = df.concat(data)\n",
    "        except IndexError:\n",
    "            # If there is no data for that day, skip it\n",
    "            pass"
   ]
  },
  {
   "cell_type": "code",
   "execution_count": 18,
   "metadata": {},
   "outputs": [
    {
     "name": "stderr",
     "output_type": "stream",
     "text": [
      "100%|██████████| 8/8 [00:42<00:00,  5.26s/it]\n"
     ]
    }
   ],
   "source": [
    "for date in tqdm.tqdm(pd.date_range(\"2022-08-15\", \"2022-08-22\").strftime(\"%Y-%m-%d\")):\n",
    "    try:\n",
    "        # Retrieve the batting stats for that day\n",
    "        data = batting_stats_range(date, date)\n",
    "        # Append the data to the dataframe\n",
    "        df = df.concat(data)\n",
    "    except IndexError:\n",
    "        # If there is no data for that day, skip it\n",
    "        pass"
   ]
  },
  {
   "cell_type": "code",
   "execution_count": 20,
   "metadata": {},
   "outputs": [
    {
     "data": {
      "text/html": [
       "<div>\n",
       "<style scoped>\n",
       "    .dataframe tbody tr th:only-of-type {\n",
       "        vertical-align: middle;\n",
       "    }\n",
       "\n",
       "    .dataframe tbody tr th {\n",
       "        vertical-align: top;\n",
       "    }\n",
       "\n",
       "    .dataframe thead th {\n",
       "        text-align: right;\n",
       "    }\n",
       "</style>\n",
       "<table border=\"1\" class=\"dataframe\">\n",
       "  <thead>\n",
       "    <tr style=\"text-align: right;\">\n",
       "      <th></th>\n",
       "    </tr>\n",
       "  </thead>\n",
       "  <tbody>\n",
       "  </tbody>\n",
       "</table>\n",
       "</div>"
      ],
      "text/plain": [
       "Empty DataFrame\n",
       "Columns: []\n",
       "Index: []"
      ]
     },
     "execution_count": 20,
     "metadata": {},
     "output_type": "execute_result"
    }
   ],
   "source": [
    "df"
   ]
  },
  {
   "cell_type": "code",
   "execution_count": 7,
   "metadata": {},
   "outputs": [
    {
     "ename": "IndexError",
     "evalue": "list index out of range",
     "output_type": "error",
     "traceback": [
      "\u001b[0;31m---------------------------------------------------------------------------\u001b[0m",
      "\u001b[0;31mIndexError\u001b[0m                                Traceback (most recent call last)",
      "Cell \u001b[0;32mIn[7], line 2\u001b[0m\n\u001b[1;32m      1\u001b[0m \u001b[39m# retrieve all players' batting stats for the month of May, 2017\u001b[39;00m\n\u001b[0;32m----> 2\u001b[0m data \u001b[39m=\u001b[39m batting_stats_range(\u001b[39m\"\u001b[39;49m\u001b[39m2017-05-01\u001b[39;49m\u001b[39m\"\u001b[39;49m, \u001b[39m\"\u001b[39;49m\u001b[39m2017-05-28\u001b[39;49m\u001b[39m\"\u001b[39;49m)\n",
      "File \u001b[0;32m~/.local/lib/python3.8/site-packages/pybaseball/league_batting_stats.py:62\u001b[0m, in \u001b[0;36mbatting_stats_range\u001b[0;34m(start_dt, end_dt)\u001b[0m\n\u001b[1;32m     60\u001b[0m \u001b[39m# retrieve html from baseball reference\u001b[39;00m\n\u001b[1;32m     61\u001b[0m soup \u001b[39m=\u001b[39m get_soup(start_dt_date, end_dt_date)\n\u001b[0;32m---> 62\u001b[0m table \u001b[39m=\u001b[39m get_table(soup)\n\u001b[1;32m     63\u001b[0m table \u001b[39m=\u001b[39m table\u001b[39m.\u001b[39mdropna(how\u001b[39m=\u001b[39m\u001b[39m'\u001b[39m\u001b[39mall\u001b[39m\u001b[39m'\u001b[39m)  \u001b[39m# drop if all columns are NA\u001b[39;00m\n\u001b[1;32m     64\u001b[0m \u001b[39m# scraped data is initially in string format.\u001b[39;00m\n\u001b[1;32m     65\u001b[0m \u001b[39m# convert the necessary columns to numeric.\u001b[39;00m\n",
      "File \u001b[0;32m~/.local/lib/python3.8/site-packages/pybaseball/league_batting_stats.py:28\u001b[0m, in \u001b[0;36mget_table\u001b[0;34m(soup)\u001b[0m\n\u001b[1;32m     27\u001b[0m \u001b[39mdef\u001b[39;00m \u001b[39mget_table\u001b[39m(soup: BeautifulSoup) \u001b[39m-\u001b[39m\u001b[39m>\u001b[39m pd\u001b[39m.\u001b[39mDataFrame:\n\u001b[0;32m---> 28\u001b[0m     table \u001b[39m=\u001b[39m soup\u001b[39m.\u001b[39;49mfind_all(\u001b[39m'\u001b[39;49m\u001b[39mtable\u001b[39;49m\u001b[39m'\u001b[39;49m)[\u001b[39m0\u001b[39;49m]\n\u001b[1;32m     29\u001b[0m     data \u001b[39m=\u001b[39m []\n\u001b[1;32m     30\u001b[0m     headings \u001b[39m=\u001b[39m [th\u001b[39m.\u001b[39mget_text() \u001b[39mfor\u001b[39;00m th \u001b[39min\u001b[39;00m table\u001b[39m.\u001b[39mfind(\u001b[39m\"\u001b[39m\u001b[39mtr\u001b[39m\u001b[39m\"\u001b[39m)\u001b[39m.\u001b[39mfind_all(\u001b[39m\"\u001b[39m\u001b[39mth\u001b[39m\u001b[39m\"\u001b[39m)][\u001b[39m1\u001b[39m:]\n",
      "\u001b[0;31mIndexError\u001b[0m: list index out of range"
     ]
    }
   ],
   "source": [
    "\n",
    "# retrieve all players' batting stats for the month of May, 2017\n",
    "data = batting_stats_range(\"2017-05-01\", \"2017-05-28\")\n"
   ]
  },
  {
   "cell_type": "code",
   "execution_count": 6,
   "metadata": {},
   "outputs": [],
   "source": [
    "cache.disable()\n"
   ]
  },
  {
   "cell_type": "code",
   "execution_count": null,
   "metadata": {},
   "outputs": [],
   "source": []
  }
 ],
 "metadata": {
  "kernelspec": {
   "display_name": "Python 3",
   "language": "python",
   "name": "python3"
  },
  "language_info": {
   "codemirror_mode": {
    "name": "ipython",
    "version": 3
   },
   "file_extension": ".py",
   "mimetype": "text/x-python",
   "name": "python",
   "nbconvert_exporter": "python",
   "pygments_lexer": "ipython3",
   "version": "3.8.16"
  },
  "orig_nbformat": 4
 },
 "nbformat": 4,
 "nbformat_minor": 2
}
