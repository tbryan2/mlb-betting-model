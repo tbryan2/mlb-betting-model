{
 "cells": [
  {
   "cell_type": "code",
   "execution_count": 1,
   "metadata": {},
   "outputs": [],
   "source": [
    "# Dependencies\n",
    "import os\n",
    "import pandas as pd\n",
    "from sqlalchemy import create_engine"
   ]
  },
  {
   "cell_type": "code",
   "execution_count": 24,
   "metadata": {},
   "outputs": [
    {
     "data": {
      "text/plain": [
       "range(2012, 2023)"
      ]
     },
     "execution_count": 24,
     "metadata": {},
     "output_type": "execute_result"
    }
   ],
   "source": [
    "years"
   ]
  },
  {
   "cell_type": "code",
   "execution_count": 37,
   "metadata": {},
   "outputs": [],
   "source": [
    "import os\n",
    "from sqlalchemy import create_engine, text\n",
    "from sportsipy.mlb.boxscore import Boxscore\n",
    "\n",
    "# Database connection parameters\n",
    "db_user = \"postgres\"\n",
    "db_password = \"1789\"\n",
    "db_name = \"baseball\"\n",
    "db_host = \"localhost\"\n",
    "db_port = \"5433\"\n",
    "\n",
    "# Connect to the PostgreSQL database\n",
    "engine = create_engine(\n",
    "    f\"postgresql://{db_user}:{db_password}@{db_host}:{db_port}/{db_name}\")\n",
    "\n",
    "# Define the SQL query to get all game_ids from the database\n",
    "query = text(\"SELECT DISTINCT game_id FROM starting_pitchers;\")\n",
    "\n",
    "# Execute the query and fetch all the game_ids\n",
    "with engine.connect() as connection:\n",
    "    game_ids = [row[0] for row in connection.execute(query)]\n",
    "\n",
    "\n",
    "def get_final_scores(game_id):\n",
    "    boxscore = Boxscore(game_id)\n",
    "    home_team = boxscore.home_name\n",
    "    away_team = boxscore.away_name\n",
    "    home_score = boxscore.home_points\n",
    "    away_score = boxscore.away_points\n",
    "    return f\"{home_team} {home_score}, {away_team} {away_score}\"\n",
    "\n"
   ]
  },
  {
   "cell_type": "code",
   "execution_count": 41,
   "metadata": {},
   "outputs": [
    {
     "ename": "IndexError",
     "evalue": "list index out of range",
     "output_type": "error",
     "traceback": [
      "\u001b[0;31m---------------------------------------------------------------------------\u001b[0m",
      "\u001b[0;31mIndexError\u001b[0m                                Traceback (most recent call last)",
      "\u001b[1;32m/Users/timothybryan/Desktop/mlb-betting-model/model.ipynb Cell 4\u001b[0m in \u001b[0;36m3\n\u001b[1;32m      <a href='vscode-notebook-cell:/Users/timothybryan/Desktop/mlb-betting-model/model.ipynb#X31sZmlsZQ%3D%3D?line=0'>1</a>\u001b[0m \u001b[39mfrom\u001b[39;00m \u001b[39msportsipy\u001b[39;00m\u001b[39m.\u001b[39;00m\u001b[39mmlb\u001b[39;00m\u001b[39m.\u001b[39;00m\u001b[39mboxscore\u001b[39;00m \u001b[39mimport\u001b[39;00m Boxscore\n\u001b[0;32m----> <a href='vscode-notebook-cell:/Users/timothybryan/Desktop/mlb-betting-model/model.ipynb#X31sZmlsZQ%3D%3D?line=2'>3</a>\u001b[0m game_data \u001b[39m=\u001b[39m Boxscore(\u001b[39m'\u001b[39;49m\u001b[39mBOS/BOS201808020\u001b[39;49m\u001b[39m'\u001b[39;49m)\n",
      "File \u001b[0;32m~/opt/anaconda3/lib/python3.9/site-packages/sportsipy/mlb/boxscore.py:434\u001b[0m, in \u001b[0;36mBoxscore.__init__\u001b[0;34m(self, uri)\u001b[0m\n\u001b[1;32m    431\u001b[0m \u001b[39mself\u001b[39m\u001b[39m.\u001b[39m_home_win_probability_by_pitcher \u001b[39m=\u001b[39m \u001b[39mNone\u001b[39;00m\n\u001b[1;32m    432\u001b[0m \u001b[39mself\u001b[39m\u001b[39m.\u001b[39m_home_base_out_runs_saved \u001b[39m=\u001b[39m \u001b[39mNone\u001b[39;00m\n\u001b[0;32m--> 434\u001b[0m \u001b[39mself\u001b[39;49m\u001b[39m.\u001b[39;49m_parse_game_data(uri)\n",
      "File \u001b[0;32m~/opt/anaconda3/lib/python3.9/site-packages/sportsipy/mlb/boxscore.py:840\u001b[0m, in \u001b[0;36mBoxscore._parse_game_data\u001b[0;34m(self, uri)\u001b[0m\n\u001b[1;32m    835\u001b[0m     value \u001b[39m=\u001b[39m utils\u001b[39m.\u001b[39m_parse_field(BOXSCORE_SCHEME,\n\u001b[1;32m    836\u001b[0m                                boxscore,\n\u001b[1;32m    837\u001b[0m                                short_field,\n\u001b[1;32m    838\u001b[0m                                index)\n\u001b[1;32m    839\u001b[0m     \u001b[39msetattr\u001b[39m(\u001b[39mself\u001b[39m, field, value)\n\u001b[0;32m--> 840\u001b[0m \u001b[39mself\u001b[39;49m\u001b[39m.\u001b[39;49m_parse_game_date_and_location(boxscore)\n\u001b[1;32m    841\u001b[0m \u001b[39mself\u001b[39m\u001b[39m.\u001b[39m_away_players, \u001b[39mself\u001b[39m\u001b[39m.\u001b[39m_home_players \u001b[39m=\u001b[39m \u001b[39mself\u001b[39m\u001b[39m.\u001b[39m_find_players(boxscore)\n",
      "File \u001b[0;32m~/opt/anaconda3/lib/python3.9/site-packages/sportsipy/mlb/boxscore.py:494\u001b[0m, in \u001b[0;36mBoxscore._parse_game_date_and_location\u001b[0;34m(self, boxscore)\u001b[0m\n\u001b[1;32m    492\u001b[0m scheme \u001b[39m=\u001b[39m BOXSCORE_SCHEME[\u001b[39m\"\u001b[39m\u001b[39mgame_info\u001b[39m\u001b[39m\"\u001b[39m]\n\u001b[1;32m    493\u001b[0m items \u001b[39m=\u001b[39m [i\u001b[39m.\u001b[39mtext() \u001b[39mfor\u001b[39;00m i \u001b[39min\u001b[39;00m boxscore(scheme)\u001b[39m.\u001b[39mitems()]\n\u001b[0;32m--> 494\u001b[0m game_info \u001b[39m=\u001b[39m items[\u001b[39m0\u001b[39;49m]\u001b[39m.\u001b[39msplit(\u001b[39m'\u001b[39m\u001b[39m\\n\u001b[39;00m\u001b[39m'\u001b[39m)\n\u001b[1;32m    495\u001b[0m attendance \u001b[39m=\u001b[39m \u001b[39mNone\u001b[39;00m\n\u001b[1;32m    496\u001b[0m date \u001b[39m=\u001b[39m \u001b[39mNone\u001b[39;00m\n",
      "\u001b[0;31mIndexError\u001b[0m: list index out of range"
     ]
    }
   ],
   "source": [
    "from sportsipy.mlb.boxscore import Boxscore\n",
    "\n",
    "game_data = Boxscore('BOS/BOS201808020')\n"
   ]
  },
  {
   "cell_type": "code",
   "execution_count": 33,
   "metadata": {},
   "outputs": [
    {
     "data": {
      "text/plain": [
       "'NYN201909150'"
      ]
     },
     "execution_count": 33,
     "metadata": {},
     "output_type": "execute_result"
    }
   ],
   "source": [
    "game_ids[0]\n"
   ]
  },
  {
   "cell_type": "code",
   "execution_count": 34,
   "metadata": {},
   "outputs": [
    {
     "data": {
      "text/plain": [
       "25195"
      ]
     },
     "execution_count": 34,
     "metadata": {},
     "output_type": "execute_result"
    }
   ],
   "source": [
    "len(game_ids)"
   ]
  },
  {
   "cell_type": "code",
   "execution_count": null,
   "metadata": {},
   "outputs": [],
   "source": []
  }
 ],
 "metadata": {
  "kernelspec": {
   "display_name": "Python 3",
   "language": "python",
   "name": "python3"
  },
  "language_info": {
   "codemirror_mode": {
    "name": "ipython",
    "version": 3
   },
   "file_extension": ".py",
   "mimetype": "text/x-python",
   "name": "python",
   "nbconvert_exporter": "python",
   "pygments_lexer": "ipython3",
   "version": "3.9.7"
  },
  "orig_nbformat": 4
 },
 "nbformat": 4,
 "nbformat_minor": 2
}
